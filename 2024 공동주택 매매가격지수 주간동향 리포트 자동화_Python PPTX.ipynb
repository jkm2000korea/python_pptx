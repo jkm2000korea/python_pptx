{
 "cells": [
  {
   "cell_type": "markdown",
   "metadata": {},
   "source": [
    "# 2024 공동주택 매매가격지수 주간동향 리포트 자동화_Python PPTX"
   ]
  },
  {
   "cell_type": "code",
   "execution_count": 1,
   "metadata": {
    "ExecuteTime": {
     "end_time": "2024-02-07T13:53:35.986123Z",
     "start_time": "2024-02-07T13:53:35.977124Z"
    }
   },
   "outputs": [],
   "source": [
    "# !pip install python-pptx"
   ]
  },
  {
   "cell_type": "code",
   "execution_count": 2,
   "metadata": {
    "ExecuteTime": {
     "end_time": "2024-02-07T13:53:36.687874Z",
     "start_time": "2024-02-07T13:53:35.987552Z"
    }
   },
   "outputs": [],
   "source": [
    "from pptx import Presentation\n",
    "import pandas as pd\n",
    "import matplotlib.pyplot as plt\n",
    "from pptx.util import Inches, Pt\n",
    "from pptx.dml.color import RGBColor\n",
    "import os\n",
    "\n",
    "# 1. 기본 스타일 설정\n",
    "plt.style.use('default')\n",
    "plt.rcParams['font.family'] ='NanumGothic'"
   ]
  },
  {
   "cell_type": "code",
   "execution_count": 3,
   "metadata": {
    "ExecuteTime": {
     "end_time": "2024-02-07T13:53:36.699351Z",
     "start_time": "2024-02-07T13:53:36.687874Z"
    }
   },
   "outputs": [],
   "source": [
    "dict_days = dict(zip(['MON', 'TUE', 'WED', 'THU', 'FRI', 'SAT', 'SUN'], \n",
    "                     ['월', '화', '수', '목', '금', '토', '일']\n",
    "                    ))"
   ]
  },
  {
   "cell_type": "markdown",
   "metadata": {},
   "source": [
    "## 주택매매가격지수 주간동향\n",
    "### 데이터 불러오기"
   ]
  },
  {
   "cell_type": "code",
   "execution_count": 4,
   "metadata": {
    "ExecuteTime": {
     "end_time": "2024-02-07T13:53:36.738785Z",
     "start_time": "2024-02-07T13:53:36.704222Z"
    }
   },
   "outputs": [
    {
     "data": {
      "text/html": [
       "<div>\n",
       "<style scoped>\n",
       "    .dataframe tbody tr th:only-of-type {\n",
       "        vertical-align: middle;\n",
       "    }\n",
       "\n",
       "    .dataframe tbody tr th {\n",
       "        vertical-align: top;\n",
       "    }\n",
       "\n",
       "    .dataframe thead th {\n",
       "        text-align: right;\n",
       "    }\n",
       "</style>\n",
       "<table border=\"1\" class=\"dataframe\">\n",
       "  <thead>\n",
       "    <tr style=\"text-align: right;\">\n",
       "      <th></th>\n",
       "      <th>DATE</th>\n",
       "      <th>WEEK</th>\n",
       "      <th>DAY</th>\n",
       "      <th>ORDERS</th>\n",
       "      <th>LINES</th>\n",
       "      <th>PCS</th>\n",
       "      <th>SKU</th>\n",
       "      <th>CITIES</th>\n",
       "    </tr>\n",
       "  </thead>\n",
       "  <tbody>\n",
       "    <tr>\n",
       "      <th>0</th>\n",
       "      <td>2017-01-02</td>\n",
       "      <td>WEEK-1</td>\n",
       "      <td>MON</td>\n",
       "      <td>776</td>\n",
       "      <td>1367</td>\n",
       "      <td>1595.0</td>\n",
       "      <td>487</td>\n",
       "      <td>174</td>\n",
       "    </tr>\n",
       "    <tr>\n",
       "      <th>1</th>\n",
       "      <td>2017-01-03</td>\n",
       "      <td>WEEK-1</td>\n",
       "      <td>TUE</td>\n",
       "      <td>902</td>\n",
       "      <td>1550</td>\n",
       "      <td>1861.0</td>\n",
       "      <td>547</td>\n",
       "      <td>188</td>\n",
       "    </tr>\n",
       "    <tr>\n",
       "      <th>2</th>\n",
       "      <td>2017-01-04</td>\n",
       "      <td>WEEK-1</td>\n",
       "      <td>WED</td>\n",
       "      <td>1476</td>\n",
       "      <td>2252</td>\n",
       "      <td>2856.0</td>\n",
       "      <td>513</td>\n",
       "      <td>205</td>\n",
       "    </tr>\n",
       "    <tr>\n",
       "      <th>3</th>\n",
       "      <td>2017-01-05</td>\n",
       "      <td>WEEK-1</td>\n",
       "      <td>THU</td>\n",
       "      <td>909</td>\n",
       "      <td>1637</td>\n",
       "      <td>1972.0</td>\n",
       "      <td>519</td>\n",
       "      <td>175</td>\n",
       "    </tr>\n",
       "    <tr>\n",
       "      <th>4</th>\n",
       "      <td>2017-01-06</td>\n",
       "      <td>WEEK-1</td>\n",
       "      <td>FRI</td>\n",
       "      <td>1023</td>\n",
       "      <td>1720</td>\n",
       "      <td>1995.0</td>\n",
       "      <td>502</td>\n",
       "      <td>189</td>\n",
       "    </tr>\n",
       "  </tbody>\n",
       "</table>\n",
       "</div>"
      ],
      "text/plain": [
       "         DATE    WEEK  DAY  ORDERS  LINES     PCS  SKU  CITIES\n",
       "0  2017-01-02  WEEK-1  MON     776   1367  1595.0  487     174\n",
       "1  2017-01-03  WEEK-1  TUE     902   1550  1861.0  547     188\n",
       "2  2017-01-04  WEEK-1  WED    1476   2252  2856.0  513     205\n",
       "3  2017-01-05  WEEK-1  THU     909   1637  1972.0  519     175\n",
       "4  2017-01-06  WEEK-1  FRI    1023   1720  1995.0  502     189"
      ]
     },
     "execution_count": 4,
     "metadata": {},
     "output_type": "execute_result"
    }
   ],
   "source": [
    "# Volumes per day\n",
    "df_day = pd.read_csv('volumes per day.csv', index_col=0)\n",
    "# Weeks\n",
    "LIST_WEEKS = df_day['WEEK'].unique()\n",
    "df_day.head()"
   ]
  },
  {
   "cell_type": "markdown",
   "metadata": {},
   "source": [
    "### 주간 공동주택 매매가격지수 그래프 생성 함수"
   ]
  },
  {
   "cell_type": "code",
   "execution_count": 5,
   "metadata": {
    "ExecuteTime": {
     "end_time": "2024-02-07T13:53:36.751856Z",
     "start_time": "2024-02-07T13:53:36.741313Z"
    }
   },
   "outputs": [],
   "source": [
    "def analysis_week(df_day, WEEK):\n",
    "    \n",
    "    # Filter Scope\n",
    "    df_plot = df_day[df_day['WEEK'] ==WEEK].copy()\n",
    "\n",
    "    ''' Calculate KPIs for Comments'''\n",
    "    # Lines per orders\n",
    "    df_plot['LINES/ORDER'] = df_plot['LINES']/df_plot['ORDERS']\n",
    "    avg_ratio = '{:.2f} lines/order'.format(df_plot['LINES/ORDER'].mean())\n",
    "    max_ratio = '{:.2f} lines/order'.format(df_plot['LINES/ORDER'].max())\n",
    "\n",
    "    # Maximum Day Lines\n",
    "    busy_day = dict_days[df_plot.set_index('DAY')['LINES'].idxmax()]\n",
    "    max_lines = '{:,} lines'.format(df_plot['LINES'].max())\n",
    "\n",
    "    # Total 주택매매가격지수\n",
    "    total_lines = '{:,} lines'.format(df_plot['LINES'].sum())\n",
    "\n",
    "    # Bar Plot: Orders/Lines\n",
    "    fig, ax = plt.subplots(figsize=(18, 6))\n",
    "    df_plot.plot.bar(figsize=(12, 6), edgecolor='black', x='DAY', y=['ORDERS', 'LINES'], \n",
    "                     color=['tab:blue', 'navy'], legend= True, ax = ax)\n",
    "    plt.xlabel('요일', fontsize = 12)\n",
    "    plt.title('주간 공동주택 매매가격지수', fontsize = 16)\n",
    "#     plt.show()\n",
    "\n",
    "    # Save plot\n",
    "    filename = WEEK + \".png\"\n",
    "    path_plot = filename\n",
    "    fig.savefig(path_plot, dpi=fig.dpi)\n",
    "    \n",
    "    return avg_ratio, max_ratio, busy_day, max_lines, total_lines"
   ]
  },
  {
   "cell_type": "markdown",
   "metadata": {},
   "source": [
    "## Number of Lines/Order (by Week)\n",
    "### Import Data"
   ]
  },
  {
   "cell_type": "code",
   "execution_count": 6,
   "metadata": {
    "ExecuteTime": {
     "end_time": "2024-02-07T13:53:36.774874Z",
     "start_time": "2024-02-07T13:53:36.751856Z"
    }
   },
   "outputs": [
    {
     "data": {
      "text/html": [
       "<div>\n",
       "<style scoped>\n",
       "    .dataframe tbody tr th:only-of-type {\n",
       "        vertical-align: middle;\n",
       "    }\n",
       "\n",
       "    .dataframe tbody tr th {\n",
       "        vertical-align: top;\n",
       "    }\n",
       "\n",
       "    .dataframe thead th {\n",
       "        text-align: right;\n",
       "    }\n",
       "</style>\n",
       "<table border=\"1\" class=\"dataframe\">\n",
       "  <thead>\n",
       "    <tr style=\"text-align: right;\">\n",
       "      <th></th>\n",
       "      <th>WEEK</th>\n",
       "      <th>1</th>\n",
       "      <th>2</th>\n",
       "      <th>3</th>\n",
       "      <th>4</th>\n",
       "      <th>5</th>\n",
       "      <th>+</th>\n",
       "    </tr>\n",
       "  </thead>\n",
       "  <tbody>\n",
       "    <tr>\n",
       "      <th>0</th>\n",
       "      <td>WEEK-1</td>\n",
       "      <td>5178</td>\n",
       "      <td>1265</td>\n",
       "      <td>501</td>\n",
       "      <td>304</td>\n",
       "      <td>162</td>\n",
       "      <td>494</td>\n",
       "    </tr>\n",
       "    <tr>\n",
       "      <th>1</th>\n",
       "      <td>WEEK-2</td>\n",
       "      <td>5930</td>\n",
       "      <td>1832</td>\n",
       "      <td>756</td>\n",
       "      <td>423</td>\n",
       "      <td>211</td>\n",
       "      <td>640</td>\n",
       "    </tr>\n",
       "    <tr>\n",
       "      <th>2</th>\n",
       "      <td>WEEK-3</td>\n",
       "      <td>5047</td>\n",
       "      <td>1490</td>\n",
       "      <td>717</td>\n",
       "      <td>360</td>\n",
       "      <td>176</td>\n",
       "      <td>550</td>\n",
       "    </tr>\n",
       "    <tr>\n",
       "      <th>3</th>\n",
       "      <td>WEEK-4</td>\n",
       "      <td>2681</td>\n",
       "      <td>753</td>\n",
       "      <td>283</td>\n",
       "      <td>190</td>\n",
       "      <td>105</td>\n",
       "      <td>301</td>\n",
       "    </tr>\n",
       "    <tr>\n",
       "      <th>4</th>\n",
       "      <td>WEEK-5</td>\n",
       "      <td>966</td>\n",
       "      <td>271</td>\n",
       "      <td>95</td>\n",
       "      <td>78</td>\n",
       "      <td>30</td>\n",
       "      <td>85</td>\n",
       "    </tr>\n",
       "  </tbody>\n",
       "</table>\n",
       "</div>"
      ],
      "text/plain": [
       "     WEEK     1     2    3    4    5    +\n",
       "0  WEEK-1  5178  1265  501  304  162  494\n",
       "1  WEEK-2  5930  1832  756  423  211  640\n",
       "2  WEEK-3  5047  1490  717  360  176  550\n",
       "3  WEEK-4  2681   753  283  190  105  301\n",
       "4  WEEK-5   966   271   95   78   30   85"
      ]
     },
     "execution_count": 6,
     "metadata": {},
     "output_type": "execute_result"
    }
   ],
   "source": [
    "# Volumes per day\n",
    "df_lior = pd.read_csv('lines per day.csv', index_col=0)\n",
    "COLS_IN = list(df_lior.columns[0:8])\n",
    "df_lior.reset_index(inplace = True)\n",
    "df_lior.head()"
   ]
  },
  {
   "cell_type": "code",
   "execution_count": 7,
   "metadata": {
    "ExecuteTime": {
     "end_time": "2024-02-07T13:53:36.797036Z",
     "start_time": "2024-02-07T13:53:36.777873Z"
    }
   },
   "outputs": [
    {
     "data": {
      "text/html": [
       "<div>\n",
       "<style scoped>\n",
       "    .dataframe tbody tr th:only-of-type {\n",
       "        vertical-align: middle;\n",
       "    }\n",
       "\n",
       "    .dataframe tbody tr th {\n",
       "        vertical-align: top;\n",
       "    }\n",
       "\n",
       "    .dataframe thead th {\n",
       "        text-align: right;\n",
       "    }\n",
       "</style>\n",
       "<table border=\"1\" class=\"dataframe\">\n",
       "  <thead>\n",
       "    <tr style=\"text-align: right;\">\n",
       "      <th></th>\n",
       "      <th>WEEK</th>\n",
       "      <th>1</th>\n",
       "      <th>2</th>\n",
       "      <th>3</th>\n",
       "      <th>4</th>\n",
       "      <th>5</th>\n",
       "      <th>+</th>\n",
       "    </tr>\n",
       "  </thead>\n",
       "  <tbody>\n",
       "    <tr>\n",
       "      <th>0</th>\n",
       "      <td>WEEK-1</td>\n",
       "      <td>5178</td>\n",
       "      <td>1265</td>\n",
       "      <td>501</td>\n",
       "      <td>304</td>\n",
       "      <td>162</td>\n",
       "      <td>494</td>\n",
       "    </tr>\n",
       "    <tr>\n",
       "      <th>1</th>\n",
       "      <td>WEEK-2</td>\n",
       "      <td>5930</td>\n",
       "      <td>1832</td>\n",
       "      <td>756</td>\n",
       "      <td>423</td>\n",
       "      <td>211</td>\n",
       "      <td>640</td>\n",
       "    </tr>\n",
       "    <tr>\n",
       "      <th>2</th>\n",
       "      <td>WEEK-3</td>\n",
       "      <td>5047</td>\n",
       "      <td>1490</td>\n",
       "      <td>717</td>\n",
       "      <td>360</td>\n",
       "      <td>176</td>\n",
       "      <td>550</td>\n",
       "    </tr>\n",
       "    <tr>\n",
       "      <th>3</th>\n",
       "      <td>WEEK-4</td>\n",
       "      <td>2681</td>\n",
       "      <td>753</td>\n",
       "      <td>283</td>\n",
       "      <td>190</td>\n",
       "      <td>105</td>\n",
       "      <td>301</td>\n",
       "    </tr>\n",
       "    <tr>\n",
       "      <th>4</th>\n",
       "      <td>WEEK-5</td>\n",
       "      <td>966</td>\n",
       "      <td>271</td>\n",
       "      <td>95</td>\n",
       "      <td>78</td>\n",
       "      <td>30</td>\n",
       "      <td>85</td>\n",
       "    </tr>\n",
       "  </tbody>\n",
       "</table>\n",
       "</div>"
      ],
      "text/plain": [
       "     WEEK     1     2    3    4    5    +\n",
       "0  WEEK-1  5178  1265  501  304  162  494\n",
       "1  WEEK-2  5930  1832  756  423  211  640\n",
       "2  WEEK-3  5047  1490  717  360  176  550\n",
       "3  WEEK-4  2681   753  283  190  105  301\n",
       "4  WEEK-5   966   271   95   78   30   85"
      ]
     },
     "execution_count": 7,
     "metadata": {},
     "output_type": "execute_result"
    }
   ],
   "source": [
    "df_lior"
   ]
  },
  {
   "cell_type": "code",
   "execution_count": 9,
   "metadata": {
    "ExecuteTime": {
     "end_time": "2024-02-07T13:53:36.823861Z",
     "start_time": "2024-02-07T13:53:36.808371Z"
    }
   },
   "outputs": [],
   "source": [
    "def plot_split(df_lior):\n",
    "    \n",
    "    # Bar Plot: split per lines per orders\n",
    "    fig, ax = plt.subplots(figsize=(18, 6))\n",
    "    df_lior.plot.bar(figsize=(12, 6), edgecolor='black', x='WEEK', y=COLS_IN[0], color='tab:blue', legend= True, ax = ax)\n",
    "    df_lior.plot.bar(figsize=(12, 6), edgecolor='black', x='WEEK', y=COLS_IN[1], color='navy', legend= True, ax = ax)\n",
    "    df_lior.plot.bar(figsize=(12, 6), edgecolor='black', x='WEEK', y=COLS_IN[2], color='azure', legend= True, ax = ax)\n",
    "    df_lior.plot.bar(figsize=(12, 6), edgecolor='black', x='WEEK', y=COLS_IN[3], color='royalblue', legend= True, ax = ax)\n",
    "    df_lior.plot.bar(figsize=(12, 6), edgecolor='black', x='WEEK', y=COLS_IN[4], color='aqua', legend= True, ax = ax)\n",
    "    df_lior.plot.bar(figsize=(12, 6), edgecolor='black', x='WEEK', y=COLS_IN[5], color='lightblue', legend= True, ax = ax)\n",
    "    plt.xlabel('주차', fontsize = 14)\n",
    "    plt.ylabel('거래량', fontsize = 14)\n",
    "    plt.title('월간 주택 거래량', fontsize = 14)\n",
    "#     plt.show()\n",
    "\n",
    "    # Save plot\n",
    "    filename = 'SPLIT' + \".png\"\n",
    "    path_plot = filename\n",
    "    fig.savefig(path_plot, dpi=fig.dpi)\n",
    "\n",
    "    # Analysis\n",
    "    orders = df_lior.sum(axis = 1).sum()\n",
    "    total_orders = '{:,} orders'.format(orders)\n",
    "    \n",
    "    # Split full month\n",
    "    df_an = pd.DataFrame(100 * df_lior.set_index('WEEK').sum(axis = 0)/orders)\n",
    "    df_an.columns = ['%']\n",
    "    LIST_ANALYSIS = []\n",
    "    for l in df_an.index[0:3]:\n",
    "        LIST_ANALYSIS.append('{} 지역이 전체 거래량의 {}%를 차지  '.format(df_an.loc[l, '%'].round(1), l))\n",
    "        \n",
    "        \n",
    "    return total_orders, LIST_ANALYSIS"
   ]
  },
  {
   "cell_type": "markdown",
   "metadata": {},
   "source": [
    "## PowerPoint 생성\n",
    "> 두 번째 슬라이드에 대해 일부 블록을 반복하므로 이 코드 부분을 최적화 가능"
   ]
  },
  {
   "cell_type": "code",
   "execution_count": 10,
   "metadata": {
    "ExecuteTime": {
     "end_time": "2024-02-07T13:53:38.202097Z",
     "start_time": "2024-02-07T13:53:36.824869Z"
    },
    "scrolled": false
   },
   "outputs": [
    {
     "name": "stderr",
     "output_type": "stream",
     "text": [
      "<ipython-input-9-84606d18a448>:22: FutureWarning: Dropping of nuisance columns in DataFrame reductions (with 'numeric_only=None') is deprecated; in a future version this will raise TypeError.  Select only valid columns before calling the reduction.\n",
      "  orders = df_lior.sum(axis = 1).sum()\n"
     ]
    },
    {
     "data": {
      "image/png": "[encoded data removed]",
      "text/plain": [
       "<Figure size 864x432 with 1 Axes>"
      ]
     },
     "metadata": {
      "needs_background": "light"
     },
     "output_type": "display_data"
    },
    {
     "data": {
      "image/png": "[encoded data removed]",
      "text/plain": [
       "<Figure size 864x432 with 1 Axes>"
      ]
     },
     "metadata": {
      "needs_background": "light"
     },
     "output_type": "display_data"
    },
    {
     "data": {
      "image/png": "[encoded data removed]",
      "text/plain": [
       "<Figure size 864x432 with 1 Axes>"
      ]
     },
     "metadata": {
      "needs_background": "light"
     },
     "output_type": "display_data"
    },
    {
     "data": {
      "image/png": "[encoded data removed]",
      "text/plain": [
       "<Figure size 864x432 with 1 Axes>"
      ]
     },
     "metadata": {
      "needs_background": "light"
     },
     "output_type": "display_data"
    },
    {
     "data": {
      "image/png": "[encoded data removed]",
      "text/plain": [
       "<Figure size 864x432 with 1 Axes>"
      ]
     },
     "metadata": {
      "needs_background": "light"
     },
     "output_type": "display_data"
    },
    {
     "data": {
      "image/png": "[encoded data removed]",
      "text/plain": [
       "<Figure size 864x432 with 1 Axes>"
      ]
     },
     "metadata": {
      "needs_background": "light"
     },
     "output_type": "display_data"
    }
   ],
   "source": [
    "import pandas as pd\n",
    "pd.options.mode.chained_assignment = None\n",
    "\n",
    "# Create the presentation object\n",
    "prs = Presentation()\n",
    "\n",
    "# Layout Choice for the introduction slide\n",
    "image_slide_layout = prs.slide_layouts[5]\n",
    "page = 1\n",
    "\n",
    "'''Slide Introduction'''\n",
    "# Create the slide\n",
    "title_slide_layout = prs.slide_layouts[0]\n",
    "slide = prs.slides.add_slide(title_slide_layout)\n",
    "title = slide.shapes.title\n",
    "subtitle = slide.placeholders[1]\n",
    "background = slide.background\n",
    "fill = background.fill\n",
    "fill.solid()\n",
    "fill.fore_color.rgb = RGBColor(35, 77, 160)\n",
    "\n",
    "# Add Title\n",
    "title.text = \"2024 부동산 전망 리포트\"\n",
    "title.text_frame.paragraphs[0].font.color.rgb = RGBColor(255, 255, 255)\n",
    "\n",
    "# Add Subtitle\n",
    "subtitle.text = 'python-pptx 활용 보고서 자동화 \\n for the last {} weeks'.format(len(LIST_WEEKS))\n",
    "subtitle.text_frame.paragraphs[0].font.color.rgb = RGBColor(255, 255, 255)\n",
    "\n",
    "'''Slides Analysis per Week'''\n",
    "for WEEK in LIST_WEEKS:\n",
    "    \n",
    "    # Create Plot\n",
    "    avg_ratio, max_ratio, busy_day, max_lines, total_lines = analysis_week(df_day, WEEK)\n",
    "\n",
    "    # Create a slide\n",
    "    slide = prs.slides.add_slide(image_slide_layout)\n",
    "    shapes = slide.shapes\n",
    "    \n",
    "    # Create Title\n",
    "    title_shape = shapes.title\n",
    "    title_shape.text = '주간 아파트 가격동향 ({})'.format(WEEK)\n",
    "    \n",
    "    # Add Image    \n",
    "    left = Inches(0.75)\n",
    "    top = Inches(1.25)\n",
    "    pic = slide.shapes.add_picture('{}.png'.format(WEEK), left, top, height=Inches(4.5))\n",
    "\n",
    "    # Build the Text Box\n",
    "    left = Inches(0.75)\n",
    "    top = Inches(1.5) + Inches(4)\n",
    "    width = Inches(9)\n",
    "    height = Inches(2)\n",
    "    txBox = slide.shapes.add_textbox(left, top, width, height)\n",
    "    tf = txBox.text_frame\n",
    "    \n",
    "    # Title\n",
    "    p = tf.add_paragraph()\n",
    "    p.text = '분석결과'\n",
    "    p.font.size = Pt(18)\n",
    "    \n",
    "    # First bullet point\n",
    "    p = tf.add_paragraph()\n",
    "    p.text = '• 주 동안 공동주택 매매가격지수가 {} 만큼 상승  '.format(total_lines)\n",
    "    p.level = 1\n",
    "    \n",
    "    # Second bullet point\n",
    "    p = tf.add_paragraph()\n",
    "    p.text = '• {} 요일 거래량이 {} 건으로 가장 많았음'.format(busy_day, max_lines)\n",
    "    p.level = 1\n",
    "    \n",
    "    # Third bullet point\n",
    "    p = tf.add_paragraph()\n",
    "    p.text = '• 최저 상승 지역은 {} , 최고 상승 지역은 {}'.format(avg_ratio, max_ratio)\n",
    "    p.level = 1\n",
    "    \n",
    "    # Add Pages\n",
    "    txBox = slide.shapes.add_textbox(Inches(9), Inches(6.75), Inches(1), Inches(1))\n",
    "    tf = txBox.text_frame\n",
    "    p = tf.add_paragraph()\n",
    "    p.text = str('{}/{}'.format(page, len(LIST_WEEKS) + 1 ))\n",
    "    p.font.size = Pt(15)\n",
    "    page += 1\n",
    "    \n",
    "# Add Analysis lines\n",
    "total_orders, LIST_ANALYSIS = plot_split(df_lior)\n",
    "\n",
    "# Create a slide\n",
    "slide = prs.slides.add_slide(image_slide_layout)\n",
    "shapes = slide.shapes\n",
    "\n",
    "# Create Title\n",
    "title_shape = shapes.title\n",
    "title_shape.text = '주차별 거래량 분석'\n",
    "\n",
    "# Add Image\n",
    "left = Inches(0.75)\n",
    "top = Inches(1.25)\n",
    "pic = slide.shapes.add_picture('{}.png'.format('SPLIT'), left, top, height=Inches(4.5))\n",
    "\n",
    "# Build the Text Box\n",
    "left = Inches(0.75)\n",
    "top = Inches(1.5) + Inches(4)\n",
    "width = Inches(9)\n",
    "height = Inches(2)\n",
    "txBox = slide.shapes.add_textbox(left, top, width, height)\n",
    "tf = txBox.text_frame\n",
    "p = tf.add_paragraph()\n",
    "p.text = '{} 거래됨'.format(total_orders)\n",
    "p.font.size = Pt(18)\n",
    "\n",
    "for l in LIST_ANALYSIS:\n",
    "    # First bullet point\n",
    "    p = tf.add_paragraph()\n",
    "    p.text = '• {}'.format(l)\n",
    "    p.level = 1\n",
    "    \n",
    "# Add Pages\n",
    "txBox = slide.shapes.add_textbox(Inches(9), Inches(6.75), Inches(1), Inches(1))\n",
    "tf = txBox.text_frame\n",
    "p = tf.add_paragraph()\n",
    "p.text = str('{}/{}'.format(page, len(LIST_WEEKS) +1))\n",
    "p.font.size = Pt(13)\n",
    "page += 1\n",
    "\n",
    "# Save\n",
    "prs.save('2024 부동산 가격전망 리포트.pptx')"
   ]
  }
 ],
 "metadata": {
  "kernelspec": {
   "display_name": "Python 3",
   "language": "python",
   "name": "python3"
  },
  "language_info": {
   "codemirror_mode": {
    "name": "ipython",
    "version": 3
   },
   "file_extension": ".py",
   "mimetype": "text/x-python",
   "name": "python",
   "nbconvert_exporter": "python",
   "pygments_lexer": "ipython3",
   "version": "3.8.5"
  },
  "toc": {
   "base_numbering": 1,
   "nav_menu": {},
   "number_sections": true,
   "sideBar": true,
   "skip_h1_title": false,
   "title_cell": "Table of Contents",
   "title_sidebar": "Contents",
   "toc_cell": false,
   "toc_position": {},
   "toc_section_display": true,
   "toc_window_display": false
  }
 },
 "nbformat": 4,
 "nbformat_minor": 2
}
