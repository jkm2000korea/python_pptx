{
 "cells": [
  {
   "cell_type": "markdown",
   "metadata": {},
   "source": [
    "# REAL PJT_2024 경제 부동산 전망 리포트 자동화_Python PPTX"
   ]
  },
  {
   "cell_type": "code",
   "execution_count": 40,
   "metadata": {
    "ExecuteTime": {
     "end_time": "2024-02-13T06:40:30.646470Z",
     "start_time": "2024-02-13T06:40:30.631069Z"
    }
   },
   "outputs": [],
   "source": [
    "# 패키지 설치\n",
    "# !pip install python-pptx"
   ]
  },
  {
   "cell_type": "code",
   "execution_count": 41,
   "metadata": {
    "ExecuteTime": {
     "end_time": "2024-02-13T06:40:30.681246Z",
     "start_time": "2024-02-13T06:40:30.649919Z"
    }
   },
   "outputs": [],
   "source": [
    "# 패키지 불러오기\n",
    "from pptx import Presentation\n",
    "\n",
    "# box1- 텍스트 박스 속성 부여\n",
    "from pptx.util import Inches, Pt, Cm\n",
    "\n",
    "# 색상조절\n",
    "from pptx.dml.color import RGBColor\n",
    "\n",
    "# 프리젠테이션 객체 생성\n",
    "\n",
    "prs = Presentation(\"my-blank-16x9-deck.pptx\")"
   ]
  },
  {
   "cell_type": "markdown",
   "metadata": {},
   "source": [
    "# 1 페이지"
   ]
  },
  {
   "cell_type": "code",
   "execution_count": 42,
   "metadata": {
    "ExecuteTime": {
     "end_time": "2024-02-13T06:40:30.707500Z",
     "start_time": "2024-02-13T06:40:30.682445Z"
    }
   },
   "outputs": [],
   "source": [
    "# 빈 슬라이드 레이아웃\n",
    "layout = prs.slide_layouts[6]\n",
    "\n",
    "# 슬라이드\n",
    "slide = prs.slides.add_slide(layout)\n",
    "\n",
    "# 왼쪽, 윗쪽 설정\n",
    "left = top = Cm(0)\n",
    "height = Cm(20)\n",
    "\n",
    "# 이미지 도형 추가\n",
    "pic = slide.shapes.add_picture(\"./hotel-7540353_1280.jpg\", left, top, height=height)"
   ]
  },
  {
   "cell_type": "code",
   "execution_count": 43,
   "metadata": {
    "ExecuteTime": {
     "end_time": "2024-02-13T06:40:30.782967Z",
     "start_time": "2024-02-13T06:40:30.707500Z"
    }
   },
   "outputs": [],
   "source": [
    "# box-1 텍스트 박스 속성 부여\n",
    "\n",
    "left = Cm(2)\n",
    "top = Cm(1)\n",
    "width = Cm(21)\n",
    "height = Cm(3)\n",
    "\n",
    "txBox = slide.shapes.add_textbox(left, top, width, height)\n",
    "tf = txBox.text_frame\n",
    "\n",
    "# Title\n",
    "p = tf.add_paragraph()\n",
    "p.text = '2024 경제 부동산 데이터 분석 및 예측'\n",
    "p.font.size = Pt(35)\n",
    "p.font.bold = True\n",
    "p.font.color.rgb = RGBColor(0,0,255)\n",
    "\n",
    "# box-2 텍스트 박스 속성 부여\n",
    "\n",
    "left = Cm(2)\n",
    "top = Cm(3) + Cm(3)\n",
    "width = Cm(21)\n",
    "height = Cm(3)\n",
    "\n",
    "txBox = slide.shapes.add_textbox(left, top, width, height)\n",
    "tf = txBox.text_frame\n",
    "p = tf.add_paragraph()\n",
    "p.text = \"python-pptx 패키지를 활용한 \\n분석 리포트 생성 자동화\"\n",
    "p.font.color.rgb = RGBColor(0,0,204)\n",
    "p.font.bold = True\n",
    "p.font.size = Pt(25)\n",
    "p.font.color.rgb = RGBColor(0,0,204)\n",
    "p.font.bold = True\n",
    "p.font.size = Pt(25)\n",
    "\n",
    "# box-3 텍스트 박스 속성 부여\n",
    "\n",
    "left = Cm(2)\n",
    "top = Cm(3) + Cm(3) + Cm(6)\n",
    "width = Cm(21)\n",
    "height = Cm(3)\n",
    "\n",
    "txBox = slide.shapes.add_textbox(left, top, width, height)\n",
    "tf = txBox.text_frame\n",
    "p = tf.add_paragraph()\n",
    "p.text = \"2024-2-13 \\n데이터 분석 연구소 Pablo\"\n",
    "p.font.color.rgb = RGBColor(0, 0, 102)\n",
    "p.font.bold = True\n",
    "p.font.size = Pt(15)\n",
    "p.font.color.rgb = RGBColor(0, 0, 102)\n",
    "p.font.bold = True\n",
    "p.font.size = Pt(15)\n",
    "\n",
    "\n",
    "# 프레젠테이션 파일 저장\n",
    "prs.save(\"./test_제목슬라이드_이미지추가_응용.pptx\")"
   ]
  },
  {
   "cell_type": "code",
   "execution_count": 44,
   "metadata": {
    "ExecuteTime": {
     "end_time": "2024-02-13T06:40:30.834297Z",
     "start_time": "2024-02-13T06:40:30.786072Z"
    }
   },
   "outputs": [],
   "source": [
    "# 프레젠테이션 파일 저장\n",
    "prs.save(\"./test_16_9.pptx\")"
   ]
  },
  {
   "cell_type": "markdown",
   "metadata": {},
   "source": [
    "# 2페이지"
   ]
  },
  {
   "cell_type": "code",
   "execution_count": 45,
   "metadata": {
    "ExecuteTime": {
     "end_time": "2024-02-13T06:40:30.847824Z",
     "start_time": "2024-02-13T06:40:30.837729Z"
    }
   },
   "outputs": [],
   "source": [
    "# 빈 슬라이드 레이아웃\n",
    "layout = prs.slide_layouts[6]\n",
    "\n",
    "# 슬라이드\n",
    "slide = prs.slides.add_slide(layout)"
   ]
  },
  {
   "cell_type": "code",
   "execution_count": 46,
   "metadata": {
    "ExecuteTime": {
     "end_time": "2024-02-13T06:40:30.868781Z",
     "start_time": "2024-02-13T06:40:30.851146Z"
    }
   },
   "outputs": [],
   "source": [
    "background = slide.background\n",
    "fill = background.fill\n",
    "fill.solid()\n",
    "fill.fore_color.rgb = RGBColor(51,51,205)"
   ]
  },
  {
   "cell_type": "code",
   "execution_count": 50,
   "metadata": {
    "ExecuteTime": {
     "end_time": "2024-02-13T06:41:51.620951Z",
     "start_time": "2024-02-13T06:41:51.598166Z"
    }
   },
   "outputs": [],
   "source": [
    "left = Cm(2)\n",
    "top = Cm(0)\n",
    "width = Cm(20)\n",
    "height = Cm(5)\n",
    "\n",
    "txBox = slide.shapes.add_textbox(left, top, width, height)\n",
    "tf = txBox.text_frame\n",
    "\n",
    "# Title\n",
    "p = tf.add_paragraph()\n",
    "p.text = '< TABEL OF CONTENTS >'\n",
    "p.font.size = Pt(20)\n",
    "p.font.bold = True\n",
    "p.font.color.rgb = RGBColor(204, 255, 255)\n",
    "\n",
    "left = Cm(2)\n",
    "top = Cm(2)\n",
    "width = Cm(20)\n",
    "height = Cm(5)\n",
    "\n",
    "txBox = slide.shapes.add_textbox(left, top, width, height)\n",
    "tf = txBox.text_frame\n",
    "\n",
    "title_list = ['1. 부동산 시장 동향과 정부 경제정책', \n",
    "              '2. 매크로 경제 데이터 분석', \n",
    "              '3. 시장의 수요와 공급 데이터 시각화', \n",
    "              '4. 상관관계 분석 및 주요 경제변수 수집', \n",
    "              '5. 시장 예측 인공지능 모델개발 실무']\n",
    "\n",
    "for i in range(len(title_list)):\n",
    "    p = tf.add_paragraph()\n",
    "    p.text = title_list[i]\n",
    "    p.font.size = Pt(25)\n",
    "    p.font.bold = True\n",
    "    p.font.color.rgb = RGBColor(255, 255, 255)\n",
    "    p.line_spacing = Cm(2)"
   ]
  },
  {
   "cell_type": "code",
   "execution_count": 51,
   "metadata": {
    "ExecuteTime": {
     "end_time": "2024-02-13T06:41:55.848997Z",
     "start_time": "2024-02-13T06:41:55.795670Z"
    }
   },
   "outputs": [],
   "source": [
    "# 프레젠테이션 파일 저장\n",
    "prs.save(\"./test_16_9.pptx\")"
   ]
  }
 ],
 "metadata": {
  "kernelspec": {
   "display_name": "Python 3",
   "language": "python",
   "name": "python3"
  },
  "language_info": {
   "codemirror_mode": {
    "name": "ipython",
    "version": 3
   },
   "file_extension": ".py",
   "mimetype": "text/x-python",
   "name": "python",
   "nbconvert_exporter": "python",
   "pygments_lexer": "ipython3",
   "version": "3.8.5"
  }
 },
 "nbformat": 4,
 "nbformat_minor": 4
}
