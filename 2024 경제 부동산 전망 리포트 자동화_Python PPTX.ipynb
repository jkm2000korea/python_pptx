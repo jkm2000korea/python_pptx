{
 "cells": [
  {
   "cell_type": "markdown",
   "metadata": {},
   "source": [
    "# 2024 경제 부동산 전망 리포트 자동화_Python PPTX"
   ]
  },
  {
   "cell_type": "code",
   "execution_count": 36,
   "metadata": {
    "ExecuteTime": {
     "end_time": "2024-02-12T11:31:22.388691Z",
     "start_time": "2024-02-12T11:31:22.374591Z"
    }
   },
   "outputs": [],
   "source": [
    "# 패키지 설치\n",
    "# !pip install python-pptx"
   ]
  },
  {
   "cell_type": "code",
   "execution_count": 89,
   "metadata": {
    "ExecuteTime": {
     "end_time": "2024-02-12T12:33:34.466532Z",
     "start_time": "2024-02-12T12:33:34.461454Z"
    }
   },
   "outputs": [],
   "source": [
    "# 패키지 불러오기\n",
    "from pptx import Presentation"
   ]
  },
  {
   "cell_type": "markdown",
   "metadata": {},
   "source": [
    "## 1. 커버 페이지 작성"
   ]
  },
  {
   "cell_type": "code",
   "execution_count": 90,
   "metadata": {
    "ExecuteTime": {
     "end_time": "2024-02-12T12:33:34.918316Z",
     "start_time": "2024-02-12T12:33:34.888538Z"
    }
   },
   "outputs": [],
   "source": [
    "# 프리젠테이션 객체 생성\n",
    "prs = Presentation()"
   ]
  },
  {
   "cell_type": "code",
   "execution_count": 91,
   "metadata": {
    "ExecuteTime": {
     "end_time": "2024-02-12T12:33:35.115570Z",
     "start_time": "2024-02-12T12:33:35.100453Z"
    }
   },
   "outputs": [],
   "source": [
    "# 슬라이드 레이아웃 - '제목 슬라이드' 객체 생성\n",
    "title_slide = prs.slide_layouts[0]"
   ]
  },
  {
   "cell_type": "markdown",
   "metadata": {},
   "source": [
    "### slide_layouts 객체 레이아웃은 다음과 같습니다."
   ]
  },
  {
   "cell_type": "markdown",
   "metadata": {},
   "source": [
    "| 인덱스 |       0       |       1       |       2       |       3       |       4       |       5       |       6       |       7       |       8       |          9          |          10          |\n",
    "|--------|:-------------:|:-------------:|:-------------:|:-------------:|:-------------:|:-------------:|:-------------:|:-------------:|:-------------:|:-------------------:|:--------------------:|\n",
    "| 레이아웃 | <span style=\"background-color:lightblue\">제목 슬라이드</span> | <span style=\"background-color:lightblue\">제목 및 내용</span> | <span style=\"background-color:lightblue\">구역 머리글</span> | <span style=\"background-color:lightblue\">콘텐츠 2개</span> | <span style=\"background-color:lightblue\">비교</span> | <span style=\"background-color:lightblue\">제목만</span> | <span style=\"background-color:lightblue\">빈 화면</span> | <span style=\"background-color:lightblue\">캡션 있는 콘텐츠</span> | <span style=\"background-color:lightblue\">캡션 있는 그림</span> | <span style=\"background-color:lightblue\">제목 및 세로 텍스트</span> | <span style=\"background-color:lightblue\">세로 제목 및 텍스트</span> |\n"
   ]
  },
  {
   "cell_type": "code",
   "execution_count": 92,
   "metadata": {
    "ExecuteTime": {
     "end_time": "2024-02-12T12:33:35.889321Z",
     "start_time": "2024-02-12T12:33:35.874360Z"
    }
   },
   "outputs": [],
   "source": [
    "# 객체 -> pptx slide 생성\n",
    "slide = prs.slides.add_slide(title_slide)"
   ]
  },
  {
   "cell_type": "code",
   "execution_count": 93,
   "metadata": {
    "ExecuteTime": {
     "end_time": "2024-02-12T12:33:36.304093Z",
     "start_time": "2024-02-12T12:33:36.286156Z"
    }
   },
   "outputs": [],
   "source": [
    "background = slide.background\n",
    "fill = background.fill\n",
    "fill.solid()\n",
    "fill.fore_color.rgb = RGBColor(0,0,205)"
   ]
  },
  {
   "cell_type": "code",
   "execution_count": 94,
   "metadata": {
    "ExecuteTime": {
     "end_time": "2024-02-12T12:33:37.155951Z",
     "start_time": "2024-02-12T12:33:37.143415Z"
    }
   },
   "outputs": [],
   "source": [
    "# 타이틀 도형 객체 생성\n",
    "title = slide.shapes.title\n",
    "\n",
    "# 서브 타이틀 도형 객체 생성\n",
    "subtitle = slide.shapes[1]"
   ]
  },
  {
   "cell_type": "code",
   "execution_count": 95,
   "metadata": {
    "ExecuteTime": {
     "end_time": "2024-02-12T12:33:38.189931Z",
     "start_time": "2024-02-12T12:33:38.184598Z"
    }
   },
   "outputs": [],
   "source": [
    "# 제목 도형에 텍스트 입력\n",
    "title.text = \"2024 경제 및 부동산 전망 \"\n",
    "title.text_frame.paragraphs[0].font.color.rgb = RGBColor(255, 255, 255)\n",
    "title.text_frame.paragraphs[0].font.bold = True\n",
    "title.text_frame.paragraphs[0].font.size = Pt(50)"
   ]
  },
  {
   "cell_type": "code",
   "execution_count": 101,
   "metadata": {
    "ExecuteTime": {
     "end_time": "2024-02-12T12:34:43.814733Z",
     "start_time": "2024-02-12T12:34:43.794636Z"
    }
   },
   "outputs": [],
   "source": [
    "# 부제목 도형에 텍스트 입력\n",
    "subtitle.text = \"python-pptx 패키지를 활용한 \\n 분석 리포트 생성 자동화\"\n",
    "subtitle.text_frame.paragraphs[0].font.color.rgb = RGBColor(255, 255, 0)\n",
    "subtitle.text_frame.paragraphs[0].font.bold = True\n",
    "subtitle.text_frame.paragraphs[0].font.size = Pt(25)\n",
    "subtitle.text_frame.paragraphs[1].font.color.rgb = RGBColor(255, 255, 0)\n",
    "subtitle.text_frame.paragraphs[1].font.bold = True\n",
    "subtitle.text_frame.paragraphs[1].font.size = Pt(25)"
   ]
  },
  {
   "cell_type": "code",
   "execution_count": 102,
   "metadata": {
    "ExecuteTime": {
     "end_time": "2024-02-12T12:34:44.268191Z",
     "start_time": "2024-02-12T12:34:44.239128Z"
    }
   },
   "outputs": [],
   "source": [
    "# 프레젠테이션 파일 저장\n",
    "prs.save(\"./test_제목슬라이드 추가.pptx\")"
   ]
  },
  {
   "cell_type": "markdown",
   "metadata": {},
   "source": [
    "## 2. 새 슬라이드 추가"
   ]
  },
  {
   "cell_type": "code",
   "execution_count": 55,
   "metadata": {
    "ExecuteTime": {
     "end_time": "2024-02-12T11:32:45.869021Z",
     "start_time": "2024-02-12T11:32:45.852813Z"
    }
   },
   "outputs": [],
   "source": [
    "# 슬라이드 레이아웃\n",
    "layout = prs.slide_layouts[1]\n",
    "\n",
    "# 슬라이드\n",
    "slide = prs.slides.add_slide(layout)\n",
    "\n",
    "# 도형\n",
    "shapes = slide.shapes\n",
    "\n",
    "# 제목 도형\n",
    "title_shape = shapes.title\n",
    "\n",
    "# 본문 도형\n",
    "body_shape_1 = shapes.placeholders[1]"
   ]
  },
  {
   "cell_type": "code",
   "execution_count": 56,
   "metadata": {
    "ExecuteTime": {
     "end_time": "2024-02-12T11:32:46.074793Z",
     "start_time": "2024-02-12T11:32:46.059776Z"
    }
   },
   "outputs": [],
   "source": [
    "# 제목 도형에 텍스트 입력\n",
    "title_shape.text = \"제목 및 내용 슬라이드 제목\""
   ]
  },
  {
   "cell_type": "code",
   "execution_count": 57,
   "metadata": {
    "ExecuteTime": {
     "end_time": "2024-02-12T11:32:46.291283Z",
     "start_time": "2024-02-12T11:32:46.276267Z"
    }
   },
   "outputs": [],
   "source": [
    "# 본문 도형 텍스트 프레임 객체 생성\n",
    "tf_1 = body_shape.text_frame"
   ]
  },
  {
   "cell_type": "code",
   "execution_count": 58,
   "metadata": {
    "ExecuteTime": {
     "end_time": "2024-02-12T11:32:46.526485Z",
     "start_time": "2024-02-12T11:32:46.510516Z"
    }
   },
   "outputs": [],
   "source": [
    "# 본문 도형 텍스트 프레임에 텍스트 입력\n",
    "tf_1.text = \"2024년 경제 동향 및 특징\""
   ]
  },
  {
   "cell_type": "code",
   "execution_count": 59,
   "metadata": {
    "ExecuteTime": {
     "end_time": "2024-02-12T11:32:46.742273Z",
     "start_time": "2024-02-12T11:32:46.726442Z"
    }
   },
   "outputs": [],
   "source": [
    "# 본문 도형 텍스트 프레임에 문단 추가 / 텍스트 입력 / 문단 수준 설정\n",
    "p = tf_1.add_paragraph()\n",
    "p.text = \"성장과 물가 등 세계경제와 금융환경\"\n",
    "p.level = 1"
   ]
  },
  {
   "cell_type": "code",
   "execution_count": 60,
   "metadata": {
    "ExecuteTime": {
     "end_time": "2024-02-12T11:32:47.304710Z",
     "start_time": "2024-02-12T11:32:47.296647Z"
    }
   },
   "outputs": [],
   "source": [
    "# 본문 도형 텍스트 프레임에 문단 추가 / 텍스트 입력 / 문단 수준 설정\n",
    "p = tf_1.add_paragraph()\n",
    "p.text = \"미국, 한국 선거 등 정치적 금융환경\"\n",
    "p.level = 1"
   ]
  },
  {
   "cell_type": "code",
   "execution_count": 61,
   "metadata": {
    "ExecuteTime": {
     "end_time": "2024-02-12T11:32:47.641135Z",
     "start_time": "2024-02-12T11:32:47.626069Z"
    }
   },
   "outputs": [],
   "source": [
    "# 본문 도형\n",
    "body_shape_2 = shapes.placeholders[1]"
   ]
  },
  {
   "cell_type": "code",
   "execution_count": 62,
   "metadata": {
    "ExecuteTime": {
     "end_time": "2024-02-12T11:32:47.924450Z",
     "start_time": "2024-02-12T11:32:47.909933Z"
    }
   },
   "outputs": [],
   "source": [
    "# 본문 도형 텍스트 프레임 객체 생성\n",
    "tf_2 = body_shape_2.text_frame"
   ]
  },
  {
   "cell_type": "code",
   "execution_count": 63,
   "metadata": {
    "ExecuteTime": {
     "end_time": "2024-02-12T11:32:48.422884Z",
     "start_time": "2024-02-12T11:32:48.414829Z"
    }
   },
   "outputs": [],
   "source": [
    "# 본문 도형 텍스트 프레임에 텍스트 입력\n",
    "tf_2.text = \"2024년 경제전망의 주요변수\"\n",
    "\n",
    "# 본문 도형 텍스트 프레임에 문단 추가 / 텍스트 입력 / 문단 수준 설정\n",
    "p_2 = tf_2.add_paragraph()\n",
    "p_2.text = \"미국연방준비은행 기준금리 인하\"\n",
    "p_2.level = 1\n",
    "\n",
    "# 본문 도형 텍스트 프레임에 문단 추가 / 텍스트 입력 / 문단 수준 설정\n",
    "p_2 = tf_2.add_paragraph()\n",
    "p_2.text = \"국지적 전쟁 리스크\"\n",
    "p_2.level = 1"
   ]
  },
  {
   "cell_type": "code",
   "execution_count": 64,
   "metadata": {
    "ExecuteTime": {
     "end_time": "2024-02-12T11:32:48.909253Z",
     "start_time": "2024-02-12T11:32:48.881335Z"
    }
   },
   "outputs": [],
   "source": [
    "# 프레젠테이션 파일 저장\n",
    "prs.save(\"./test_2.pptx\")"
   ]
  },
  {
   "cell_type": "markdown",
   "metadata": {},
   "source": [
    "## 3. 텍스트 추가"
   ]
  },
  {
   "cell_type": "code",
   "execution_count": 19,
   "metadata": {
    "ExecuteTime": {
     "end_time": "2024-02-12T10:35:11.006063Z",
     "start_time": "2024-02-12T10:35:10.994209Z"
    }
   },
   "outputs": [],
   "source": [
    "# 도형 위치 선정을 위한 Cm 센티미터, Pt 포인트, Inch 인치 모듈 불러오기\n",
    "from pptx.util import Cm, Pt"
   ]
  },
  {
   "cell_type": "code",
   "execution_count": 20,
   "metadata": {
    "ExecuteTime": {
     "end_time": "2024-02-12T10:35:11.022801Z",
     "start_time": "2024-02-12T10:35:11.009167Z"
    }
   },
   "outputs": [],
   "source": [
    "# 빈 화면(6) 레이아웃\n",
    "layout = prs.slide_layouts[6]"
   ]
  },
  {
   "cell_type": "code",
   "execution_count": 21,
   "metadata": {
    "ExecuteTime": {
     "end_time": "2024-02-12T10:35:11.039327Z",
     "start_time": "2024-02-12T10:35:11.026802Z"
    }
   },
   "outputs": [],
   "source": [
    "# 슬라이드\n",
    "slide = prs.slides.add_slide(layout)"
   ]
  },
  {
   "cell_type": "code",
   "execution_count": 22,
   "metadata": {
    "ExecuteTime": {
     "end_time": "2024-02-12T10:35:11.061117Z",
     "start_time": "2024-02-12T10:35:11.042345Z"
    }
   },
   "outputs": [],
   "source": [
    "# 왼쪽, 윗쪽, 너비, 높이 설정\n",
    "left = Cm(2)\n",
    "top = Cm(4)\n",
    "width = Cm(20)\n",
    "height = Cm(10)"
   ]
  },
  {
   "cell_type": "code",
   "execution_count": 23,
   "metadata": {
    "ExecuteTime": {
     "end_time": "2024-02-12T10:35:11.076620Z",
     "start_time": "2024-02-12T10:35:11.062274Z"
    }
   },
   "outputs": [],
   "source": [
    "# 글 상자 도형 추가\n",
    "txBox = slide.shapes.add_textbox(left, top, width, height)\n",
    "\n",
    "# 글 상자 텍스트 프레임에 텍스트 입력\n",
    "tf = txBox.text_frame\n",
    "tf.text = \"왼쪽에서 2 위에서 4, 폭이 20, 높이가 10인 도형\""
   ]
  },
  {
   "cell_type": "code",
   "execution_count": 24,
   "metadata": {
    "ExecuteTime": {
     "end_time": "2024-02-12T10:35:11.092427Z",
     "start_time": "2024-02-12T10:35:11.078025Z"
    }
   },
   "outputs": [],
   "source": [
    "# 글 상자 텍스트 프레임에 문단 추가 / 텍스트 입력 / 글씨 굵게\n",
    "p = tf.add_paragraph()\n",
    "p.text = \"두 번째 문단을 추가하고 진하게 표시 \"\n",
    "p.font.bold = True"
   ]
  },
  {
   "cell_type": "code",
   "execution_count": 25,
   "metadata": {
    "ExecuteTime": {
     "end_time": "2024-02-12T10:35:11.108134Z",
     "start_time": "2024-02-12T10:35:11.095411Z"
    }
   },
   "outputs": [],
   "source": [
    "# 글 상자 텍스트 프레임에 문단 추가 / 텍스트 입력 / 글씨 30pt\n",
    "p = tf.add_paragraph()\n",
    "p.text = \"세 번째 문단을 추가하고, 글자 포인트 30 포인트\"\n",
    "p.font.size = Pt(30)"
   ]
  },
  {
   "cell_type": "code",
   "execution_count": 26,
   "metadata": {
    "ExecuteTime": {
     "end_time": "2024-02-12T10:35:11.128604Z",
     "start_time": "2024-02-12T10:35:11.111123Z"
    }
   },
   "outputs": [],
   "source": [
    "# 프레젠테이션 파일 저장\n",
    "prs.save(\"./test_텍스트 추가.pptx\")"
   ]
  },
  {
   "cell_type": "markdown",
   "metadata": {},
   "source": [
    "## 4. 이미지 추가"
   ]
  },
  {
   "cell_type": "markdown",
   "metadata": {},
   "source": [
    "![다른 디렉토리의 이미지](./apartment.jpg)"
   ]
  },
  {
   "cell_type": "code",
   "execution_count": 27,
   "metadata": {
    "ExecuteTime": {
     "end_time": "2024-02-12T10:35:11.158125Z",
     "start_time": "2024-02-12T10:35:11.128604Z"
    }
   },
   "outputs": [],
   "source": [
    "# 빈 슬라이드 레이아웃\n",
    "layout = prs.slide_layouts[6]\n",
    "\n",
    "# 슬라이드\n",
    "slide = prs.slides.add_slide(layout)\n",
    "\n",
    "\n",
    "# 왼쪽, 윗쪽 설정\n",
    "left = top = Cm(0)\n",
    "height = Cm(20)\n",
    "\n",
    "\n",
    "# 이미지 도형 추가\n",
    "pic = slide.shapes.add_picture(\"./apartment.jpg\", left, top, height=height)"
   ]
  },
  {
   "cell_type": "code",
   "execution_count": 28,
   "metadata": {
    "ExecuteTime": {
     "end_time": "2024-02-12T10:35:11.192978Z",
     "start_time": "2024-02-12T10:35:11.161117Z"
    }
   },
   "outputs": [],
   "source": [
    "# 프레젠테이션 파일 저장\n",
    "prs.save(\"./test_이미지.pptx\")"
   ]
  },
  {
   "cell_type": "markdown",
   "metadata": {},
   "source": [
    "## 응용 이미지 제목 슬라이드"
   ]
  },
  {
   "cell_type": "code",
   "execution_count": 1,
   "metadata": {
    "ExecuteTime": {
     "end_time": "2024-02-12T13:00:53.206337Z",
     "start_time": "2024-02-12T13:00:53.089400Z"
    }
   },
   "outputs": [],
   "source": [
    "# 패키지 불러오기\n",
    "from pptx import Presentation\n",
    "\n",
    "# box1- 텍스트 박스 속성 부여\n",
    "from pptx.util import Inches, Pt, Cm\n",
    "\n",
    "# 색상조절\n",
    "from pptx.dml.color import RGBColor\n",
    "\n",
    "# 프리젠테이션 객체 생성\n",
    "prs = Presentation()\n",
    "\n",
    "# 빈 슬라이드 레이아웃\n",
    "layout = prs.slide_layouts[6]\n",
    "\n",
    "# 슬라이드\n",
    "slide = prs.slides.add_slide(layout)\n",
    "\n",
    "# 왼쪽, 윗쪽 설정\n",
    "left = top = Cm(0)\n",
    "height = Cm(20)\n",
    "\n",
    "# 이미지 도형 추가\n",
    "pic = slide.shapes.add_picture(\"./house.jpg\", left, top, height=height)"
   ]
  },
  {
   "cell_type": "code",
   "execution_count": 3,
   "metadata": {
    "ExecuteTime": {
     "end_time": "2024-02-12T13:01:03.628809Z",
     "start_time": "2024-02-12T13:01:03.586052Z"
    }
   },
   "outputs": [],
   "source": [
    "# box-1 텍스트 박스 속성 부여\n",
    "\n",
    "left = Cm(2)\n",
    "top = Cm(5)\n",
    "width = Cm(21)\n",
    "height = Cm(3)\n",
    "\n",
    "txBox = slide.shapes.add_textbox(left, top, width, height)\n",
    "tf = txBox.text_frame\n",
    "\n",
    "# Title\n",
    "p = tf.add_paragraph()\n",
    "p.text = '2024년 경제 및 부동산 전망'\n",
    "p.font.size = Pt(50)\n",
    "p.font.bold = True\n",
    "p.font.color.rgb = RGBColor(255,255,255)\n",
    "\n",
    "# box-2 텍스트 박스 속성 부여\n",
    "\n",
    "left = Cm(2)\n",
    "top = Cm(2) + Cm(5) + Cm(5)\n",
    "width = Cm(20)\n",
    "height = Cm(5)\n",
    "\n",
    "txBox = slide.shapes.add_textbox(left, top, width, height)\n",
    "tf = txBox.text_frame\n",
    "p = tf.add_paragraph()\n",
    "p.text = \"python-pptx 패키지를 활용한 \\n분석 리포트 생성 자동화\"\n",
    "p.font.color.rgb = RGBColor(255, 255, 0)\n",
    "p.font.bold = True\n",
    "p.font.size = Pt(25)\n",
    "p.font.color.rgb = RGBColor(255, 255, 0)\n",
    "p.font.bold = True\n",
    "p.font.size = Pt(25)\n",
    "\n",
    "# 프레젠테이션 파일 저장\n",
    "prs.save(\"./test_제목슬라이드_이미지추가_응용.pptx\")"
   ]
  },
  {
   "cell_type": "markdown",
   "metadata": {},
   "source": [
    "# 5. 여러개 텍스트 박스 추가"
   ]
  },
  {
   "cell_type": "code",
   "execution_count": 40,
   "metadata": {
    "ExecuteTime": {
     "end_time": "2024-02-12T12:21:19.017283Z",
     "start_time": "2024-02-12T12:21:18.986064Z"
    }
   },
   "outputs": [],
   "source": [
    "# 패키지 불러오기\n",
    "from pptx import Presentation\n",
    "\n",
    "# box1- 텍스트 박스 속성 부여\n",
    "from pptx.util import Inches, Pt, Cm\n",
    "\n",
    "# 색상조절\n",
    "from pptx.dml.color import RGBColor\n",
    "\n",
    "# 프리젠테이션 객체 생성\n",
    "prs = Presentation()"
   ]
  },
  {
   "cell_type": "code",
   "execution_count": 41,
   "metadata": {
    "ExecuteTime": {
     "end_time": "2024-02-12T12:21:19.190649Z",
     "start_time": "2024-02-12T12:21:19.175004Z"
    }
   },
   "outputs": [],
   "source": [
    "# 빈 슬라이드 레이아웃\n",
    "layout = prs.slide_layouts[6]\n",
    "\n",
    "# 슬라이드\n",
    "slide = prs.slides.add_slide(layout)"
   ]
  },
  {
   "cell_type": "markdown",
   "metadata": {
    "ExecuteTime": {
     "end_time": "2024-02-12T12:16:28.506781Z",
     "start_time": "2024-02-12T12:16:28.490209Z"
    }
   },
   "source": [
    "## 0. 이미지 삽입"
   ]
  },
  {
   "cell_type": "code",
   "execution_count": 42,
   "metadata": {
    "ExecuteTime": {
     "end_time": "2024-02-12T12:21:19.538720Z",
     "start_time": "2024-02-12T12:21:19.523522Z"
    }
   },
   "outputs": [],
   "source": [
    "# 왼쪽, 윗쪽 설정\n",
    "left = top = Cm(0)\n",
    "height = Cm(20)\n",
    "\n",
    "# 이미지 도형 추가\n",
    "pic = slide.shapes.add_picture(\"./apartment_tr.jpg\", left, top, height=height)"
   ]
  },
  {
   "cell_type": "markdown",
   "metadata": {},
   "source": [
    "## 1. 첫번째 텍스트 박스"
   ]
  },
  {
   "cell_type": "code",
   "execution_count": 43,
   "metadata": {
    "ExecuteTime": {
     "end_time": "2024-02-12T12:21:19.879756Z",
     "start_time": "2024-02-12T12:21:19.865427Z"
    }
   },
   "outputs": [],
   "source": [
    "left = Cm(2)\n",
    "top = Cm(2)\n",
    "width = Cm(20)\n",
    "height = Cm(5)\n",
    "\n",
    "txBox = slide.shapes.add_textbox(left, top, width, height)\n",
    "tf = txBox.text_frame"
   ]
  },
  {
   "cell_type": "code",
   "execution_count": 44,
   "metadata": {
    "ExecuteTime": {
     "end_time": "2024-02-12T12:21:20.047322Z",
     "start_time": "2024-02-12T12:21:20.016181Z"
    }
   },
   "outputs": [],
   "source": [
    "# Title\n",
    "p = tf.add_paragraph()\n",
    "p.text = '1. 2024년 경제 동향 및 특징'\n",
    "p.font.size = Pt(30)\n",
    "p.font.bold = True\n",
    "p.font.color.rgb = RGBColor(35, 77, 160)\n",
    "\n",
    "\n",
    "# p.space_before = Pt(0)\n",
    "p.line_spacing = Cm(3)\n",
    "\n",
    "\n",
    "# First bullet point\n",
    "p = tf.add_paragraph()\n",
    "p.text = '• 성장과 물가 등 세계경제와 금융환경'\n",
    "p.level = 1\n",
    "p.font.size = Pt(20)\n",
    "\n",
    "\n",
    "# Second bullet point\n",
    "p = tf.add_paragraph()\n",
    "p.text = '• 미국, 한국 선거 등 정치적 금융환경'\n",
    "p.level = 1\n",
    "p.font.size = Pt(20)\n"
   ]
  },
  {
   "cell_type": "markdown",
   "metadata": {},
   "source": [
    "## 2. 두번째 텍스트 박스"
   ]
  },
  {
   "cell_type": "code",
   "execution_count": 45,
   "metadata": {
    "ExecuteTime": {
     "end_time": "2024-02-12T12:21:20.397536Z",
     "start_time": "2024-02-12T12:21:20.365452Z"
    }
   },
   "outputs": [],
   "source": [
    "# box-2 텍스트 박스 속성 부여\n",
    "\n",
    "left = Cm(2)\n",
    "top = Cm(2) + Cm(5)\n",
    "width = Cm(20)\n",
    "height = Cm(5)\n",
    "\n",
    "txBox = slide.shapes.add_textbox(left, top, width, height)\n",
    "tf = txBox.text_frame"
   ]
  },
  {
   "cell_type": "code",
   "execution_count": 46,
   "metadata": {
    "ExecuteTime": {
     "end_time": "2024-02-12T12:21:20.563768Z",
     "start_time": "2024-02-12T12:21:20.547394Z"
    }
   },
   "outputs": [],
   "source": [
    "# Title\n",
    "p = tf.add_paragraph()\n",
    "p.text = '2. 2024년 경제전망의 주요변수'\n",
    "p.font.size = Pt(30)\n",
    "p.font.bold = True\n",
    "p.font.color.rgb = RGBColor(35, 77, 160)\n",
    "\n",
    "# p.space_before = Pt(6)\n",
    "p.line_spacing = Cm(3)\n",
    "\n",
    "# First bullet point\n",
    "p = tf.add_paragraph()\n",
    "p.text = '• 미국연방준비은행 기준금리 인하'\n",
    "p.level = 1\n",
    "p.font.size = Pt(20)\n",
    "\n",
    "# Second bullet point\n",
    "p = tf.add_paragraph()\n",
    "p.text = '• 국지적 전쟁 리스크'\n",
    "p.level = 1\n",
    "p.font.size = Pt(20)\n"
   ]
  },
  {
   "cell_type": "markdown",
   "metadata": {},
   "source": [
    "## 3. 세번째 텍스트 박스"
   ]
  },
  {
   "cell_type": "code",
   "execution_count": 47,
   "metadata": {
    "ExecuteTime": {
     "end_time": "2024-02-12T12:21:20.897086Z",
     "start_time": "2024-02-12T12:21:20.883252Z"
    }
   },
   "outputs": [],
   "source": [
    "# box-2 텍스트 박스 속성 부여\n",
    "\n",
    "left = Cm(2)\n",
    "top = Cm(2) + Cm(5) + Cm(5)\n",
    "width = Cm(20)\n",
    "height = Cm(5)\n",
    "\n",
    "txBox = slide.shapes.add_textbox(left, top, width, height)\n",
    "tf = txBox.text_frame"
   ]
  },
  {
   "cell_type": "code",
   "execution_count": 48,
   "metadata": {
    "ExecuteTime": {
     "end_time": "2024-02-12T12:21:21.080962Z",
     "start_time": "2024-02-12T12:21:21.049798Z"
    }
   },
   "outputs": [],
   "source": [
    "# Title\n",
    "p = tf.add_paragraph()\n",
    "p.text = '3. 2024년 시장 전망 및 시사점'\n",
    "p.font.size = Pt(30)\n",
    "p.font.bold = True\n",
    "p.font.color.rgb = RGBColor(35, 77, 160)\n",
    "\n",
    "p.line_spacing = Cm(3)\n",
    "\n",
    "# First bullet point\n",
    "p = tf.add_paragraph()\n",
    "p.text = '• 부동산 시장 전망'\n",
    "p.level = 1\n",
    "p.font.size = Pt(20)\n",
    "\n",
    "# Second bullet point\n",
    "p = tf.add_paragraph()\n",
    "p.text = '• 주식 및 채권 시장 전망'\n",
    "p.level = 1\n",
    "p.font.size = Pt(20)\n"
   ]
  },
  {
   "cell_type": "code",
   "execution_count": 49,
   "metadata": {
    "ExecuteTime": {
     "end_time": "2024-02-12T12:21:21.264831Z",
     "start_time": "2024-02-12T12:21:21.232226Z"
    }
   },
   "outputs": [],
   "source": [
    "# 프레젠테이션 파일 저장\n",
    "prs.save(\"./test_텍스트 박스 3개.pptx\")"
   ]
  }
 ],
 "metadata": {
  "kernelspec": {
   "display_name": "Python 3",
   "language": "python",
   "name": "python3"
  },
  "language_info": {
   "codemirror_mode": {
    "name": "ipython",
    "version": 3
   },
   "file_extension": ".py",
   "mimetype": "text/x-python",
   "name": "python",
   "nbconvert_exporter": "python",
   "pygments_lexer": "ipython3",
   "version": "3.8.5"
  }
 },
 "nbformat": 4,
 "nbformat_minor": 4
}
